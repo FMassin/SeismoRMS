{
 "cells": [
  {
   "cell_type": "markdown",
   "metadata": {},
   "source": [
    "# Ground Motion Displacement RMS vs Time\n",
    "\n",
    "*an example simple tutorial for getting seismic data, computing the power spectral densities, extracting the RMS and plotting*\n",
    "\n",
    "Required:\n",
    "\n",
    "- python\n",
    "- obspy (and its dependencies)\n",
    "- pandas\n",
    "- jupyter\n",
    "- notebook\n",
    "\n",
    "this should be easy to set up in a conda env: ``conda create -n covid python=3.7 obspy pandas jupyter notebook``\n",
    "\n",
    "Author: Thomas Lecocq @seismotom, Fred Massin @fmassin"
   ]
  },
  {
   "cell_type": "markdown",
   "metadata": {},
   "source": [
    "## Step 1: imports"
   ]
  },
  {
   "cell_type": "code",
   "execution_count": null,
   "metadata": {},
   "outputs": [],
   "source": [
    "import datetime\n",
    "import numpy as np\n",
    "import pandas as pd\n",
    "import sqlx2drms,imp,seismosocialdistancing\n",
    "\n",
    "import matplotlib.pyplot as plt\n",
    "import matplotlib.ticker as ticker\n",
    "import matplotlib.patheffects as pe\n",
    "\n",
    "from obspy import UTCDateTime\n"
   ]
  },
  {
   "cell_type": "markdown",
   "metadata": {},
   "source": [
    "## Step 2: Define Start/End dates and Seismic Channel\n",
    "\n",
    "You'll have to make sure the seed_id you request is indeed available from the ``data_provider``"
   ]
  },
  {
   "cell_type": "code",
   "execution_count": null,
   "metadata": {},
   "outputs": [],
   "source": [
    "start = UTCDateTime(\"2020-03-01\")#2019-12-15\")\n",
    "end = UTCDateTime(\"2020-04-07\") # means \"now\"\n",
    "\n",
    "network = \"CH\"\n",
    "station = \"SZUZ,SBERN\"#,SZUZ,SGEV,SBERN,SLOP,SUSI,SEPFL,SBAM2\" # Urban stations\n",
    "location = \"\"\n",
    "channel = \"HGZ,HGE,HGN\"\n",
    "dataset = 'seismoRMSdata/urban-'\n",
    "\n",
    "data_provider = \"ETH\"\n",
    "logo = plt.imread('https://upload.wikimedia.org/wikipedia/commons/thumb/4/44/Logo_SED_2014.png/220px-Logo_SED_2014.png')\n",
    "bans = {\"2020-03-14 00:00:00\":'Groups >100 banned', \n",
    "        \"2020-03-21 00:00:00\":'Groups >5 banned'}\n"
   ]
  },
  {
   "cell_type": "markdown",
   "metadata": {},
   "source": [
    "## Step 3: Process PSDs to extract the RMS(displacement)\n",
    "\n",
    "This can be done for multiple filters at once (``freqs`` below):"
   ]
  },
  {
   "cell_type": "code",
   "execution_count": null,
   "metadata": {},
   "outputs": [],
   "source": [
    "imp.reload(sqlx2drms)\n",
    "test=sqlx2drms.sqlx2drms('SQLX', # 'user@hostname' import ssh-key before via `ssh-copy-id user@hostname`\n",
    "                         network=network,\n",
    "                         station=station,\n",
    "                         location=location,\n",
    "                         channel=channel,\n",
    "                         start=start,\n",
    "                         end=end)\n",
    "\n",
    "# Define frequency bands of interest:\n",
    "freqs = [(0.1,1.0),(1.0,20.0),(4.0,14.0),(4.0,20.0)]\n",
    "\n",
    "test.dRMS(freqs)\n",
    "displacement_RMS=test.displacement_RMS\n"
   ]
  },
  {
   "cell_type": "markdown",
   "metadata": {},
   "source": [
    "## Step 4: Custom plot for a single frequency band:"
   ]
  },
  {
   "cell_type": "code",
   "execution_count": null,
   "metadata": {},
   "outputs": [],
   "source": [
    "band = \"4.0-14.0\"\n",
    "\n",
    "for channelcode in list(set([k[:-1] for k in displacement_RMS])):\n",
    "    fig = plt.figure(figsize=(12,6))\n",
    "    if logo is not None:\n",
    "        fig.figimage(logo, 40, 40, alpha=.4, zorder=1)\n",
    "    \n",
    "    data={}\n",
    "    for o in 'ZEN':\n",
    "        if channelcode+o not in displacement_RMS :\n",
    "            continue\n",
    "        data[channelcode[-2:]+o] = displacement_RMS[channelcode+o][band]\n",
    "        main=channelcode[-2:]+o\n",
    "        \n",
    "    if len(data.keys())>1:\n",
    "        data[channelcode[-2:]+'*'] = data[main].copy().resample(\"30min\").median().tshift(30, \"min\") # for the sum\n",
    "        main=channelcode[-2:]+'*'\n",
    "        for i,t in enumerate(data[main].index):        \n",
    "            data[main][i] = 0\n",
    "        for o in data:            \n",
    "            if o == main:\n",
    "                continue\n",
    "            data[o] = data[o].copy().resample(\"30min\" ).median().tshift(30, \"min\")\n",
    "            for i,t in enumerate(data[main].index): \n",
    "                if len(data[o].index)-1<i:\n",
    "                    break\n",
    "                if True:#abs(data[o].index[i].timestamp()-data[main].index[i].timestamp())<60:\n",
    "                    data[main][i] += data[o][i]**2\n",
    "        for i,t in enumerate(data[main].index): \n",
    "            data[main][i] = data[main][i]**.5\n",
    "    \n",
    "    plt.plot(data[main].index, data[main], label = main)\n",
    "    \n",
    "    for o in data:\n",
    "        rs = data[o].copy().between_time(\"6:00\", \"16:00\")\n",
    "        rs = rs.resample(\"1D\" ).median().tshift(12, \"H\")\n",
    "        plt.plot(rs.index, rs, \n",
    "                 label=\"$\\overline{%s}$ (6h-16h)\"%o)#, c='purple')\n",
    "\n",
    "    \n",
    "\n",
    "    # Get normal business days and set their background color to green\n",
    "    db = pd.bdate_range(start.datetime, end.datetime)\n",
    "    for dbi in db:\n",
    "        plt.axvspan(dbi, dbi+datetime.timedelta(days=1),\n",
    "                    facecolor='lightgreen', edgecolor=\"none\",\n",
    "                    alpha=0.2, zorder=-10)\n",
    "\n",
    "    scale = 1e9\n",
    "    plt.ylim(0,np.nanpercentile(data[main],95)*1.5)\n",
    "    plt.ylim(0,np.nanpercentile(data[main],95)*1.5)\n",
    "    ticks = ticker.FuncFormatter(lambda x, pos: \"{0:g}\".format(x*scale))\n",
    "    plt.gca().yaxis.set_major_formatter(ticks)\n",
    "    plt.ylabel(\"Displacement (nm)\")\n",
    "\n",
    "    plt.title('Seismic Noise for %s - Filter: [%s] Hz' % (channelcode[:]+main[-1],\n",
    "                                                          band))\n",
    "    plt.xlim(data[main].index.min(), data[main].index.max())\n",
    "    fig.autofmt_xdate()\n",
    "    plt.grid(True, zorder=-1)\n",
    "    plt.gca().set_axisbelow(True)    \n",
    "    for iban,ban in enumerate(bans.keys()):\n",
    "        plt.axvline(UTCDateTime(ban).datetime,\n",
    "                    color='r', \n",
    "                    linewidth=2,\n",
    "                    linestyle=['-', '--', '-.', ':'][iban],\n",
    "                    path_effects=[pe.withStroke(linewidth=4, foreground=\"k\")],\n",
    "                    zorder=-9,\n",
    "                    label=bans[ban])\n",
    "    plt.legend(loc='upper left', bbox_to_anchor=(1, 0.5))    \n",
    "    plt.show()\n",
    "    fig.savefig(channelcode+\".pdf\",bbox_inches='tight')\n",
    "    fig.savefig(channelcode+\".png\",bbox_inches='tight')\n",
    "    \n",
    "    ax = seismosocialdistancing.hourmap(data[main], \n",
    "                                        bans=bans, \n",
    "                                        scale = scale)\n",
    "    ax.set_title('Seismic Noise for %s - Filter: [%s] Hz' % (channelcode[:]+main[-1],band))\n",
    "    fig.savefig(channelcode+\"-hour.pdf\",bbox_inches='tight')\n",
    "    fig.savefig(channelcode+\"-hour.png\",bbox_inches='tight')"
   ]
  },
  {
   "cell_type": "code",
   "execution_count": null,
   "metadata": {},
   "outputs": [],
   "source": [
    "%autosave 1\n",
    "import time\n",
    "time.sleep(2)\n",
    "%autosave 120\n",
    "!jupyter nbconvert --to html sqlxSocialDistancing.ipynb\n",
    "!nbstripout sqlxSocialDistancing.ipynb"
   ]
  }
 ],
 "metadata": {
  "kernelspec": {
   "display_name": "Python [default]",
   "language": "python",
   "name": "python3"
  },
  "language_info": {
   "codemirror_mode": {
    "name": "ipython",
    "version": 3
   },
   "file_extension": ".py",
   "mimetype": "text/x-python",
   "name": "python",
   "nbconvert_exporter": "python",
   "pygments_lexer": "ipython3",
   "version": "3.5.5"
  }
 },
 "nbformat": 4,
 "nbformat_minor": 2
}
